{
 "cells": [
  {
   "cell_type": "code",
   "execution_count": 9,
   "metadata": {},
   "outputs": [],
   "source": [
    "import pandas as pd\n",
    "import numpy as np\n",
    "import matplotlib.pyplot as plt\n",
    "from PIL import Image\n",
    "import os\n",
    "\n",
    "from sklearn.model_selection import train_test_split\n",
    "from sklearn.metrics import accuracy_score\n",
    "\n",
    "from keras.utils import to_categorical\n",
    "from keras.models import Sequential\n",
    "from keras.layers import Conv2D,MaxPool2D,Dense,Flatten,Dropout\n"
   ]
  },
  {
   "cell_type": "markdown",
   "metadata": {},
   "source": [
    "## Loading Image Data and store them into list and converting to numpy arrays for feeding in the model"
   ]
  },
  {
   "cell_type": "code",
   "execution_count": 2,
   "metadata": {},
   "outputs": [],
   "source": [
    "\n",
    "\n",
    "data = []\n",
    "labels = []\n",
    "classes = 43\n",
    "cur_path = os.getcwd()\n",
    "\n",
    "#Retrieving the images and their labels \n",
    "for i in range(classes):\n",
    "    path = os.path.join(cur_path,'train',str(i))\n",
    "    images = os.listdir(path)\n",
    "\n",
    "    for a in images:\n",
    "        try:\n",
    "            image = Image.open(path + '/'+ a)\n",
    "            image = image.resize((30,30))\n",
    "            image = np.array(image)\n",
    "            data.append(image)\n",
    "            labels.append(i)\n",
    "        except:\n",
    "            print(\"Error loading image\")\n",
    "\n",
    "#Converting lists into numpy arrays\n",
    "data = np.array(data)\n",
    "labels = np.array(labels)"
   ]
  },
  {
   "cell_type": "code",
   "execution_count": 3,
   "metadata": {},
   "outputs": [
    {
     "name": "stdout",
     "output_type": "stream",
     "text": [
      "Shape of Data (39209, 30, 30, 3)\n",
      "Shape of Label (39209,)\n"
     ]
    }
   ],
   "source": [
    "print(\"Shape of Data\",data.shape)\n",
    "print(\"Shape of Label\",labels.shape)"
   ]
  },
  {
   "cell_type": "code",
   "execution_count": 4,
   "metadata": {},
   "outputs": [
    {
     "name": "stdout",
     "output_type": "stream",
     "text": [
      "Train Data (31367, 30, 30, 3)\n",
      "Test Data (7842, 30, 30, 3)\n"
     ]
    }
   ],
   "source": [
    "X_train, X_test, y_train, y_test = train_test_split(data ,labels,test_size =0.2,random_state=42)\n",
    "\n",
    "\n",
    "print(\"Train Data\",X_train.shape)\n",
    "print(\"Test Data\",X_test.shape)"
   ]
  },
  {
   "cell_type": "code",
   "execution_count": 5,
   "metadata": {},
   "outputs": [],
   "source": [
    "y_train = to_categorical(y_train,43)\n",
    "y_test = to_categorical(y_test,43)"
   ]
  },
  {
   "cell_type": "markdown",
   "metadata": {},
   "source": [
    "Dropout is used after Convolution and Pooling. Flattening is converting the data into 1-dimensional array for inputing it to the next layer. Flatten the output of the convolution layers to create a single long feature vector. And it is connected to the final classification model, whoch is called a fully connected layer.\n"
   ]
  },
  {
   "cell_type": "code",
   "execution_count": 6,
   "metadata": {},
   "outputs": [
    {
     "name": "stdout",
     "output_type": "stream",
     "text": [
      "Model: \"sequential_1\"\n",
      "_________________________________________________________________\n",
      "Layer (type)                 Output Shape              Param #   \n",
      "=================================================================\n",
      "conv2d_1 (Conv2D)            (None, 26, 26, 32)        2432      \n",
      "_________________________________________________________________\n",
      "conv2d_2 (Conv2D)            (None, 22, 22, 32)        25632     \n",
      "_________________________________________________________________\n",
      "max_pooling2d_1 (MaxPooling2 (None, 11, 11, 32)        0         \n",
      "_________________________________________________________________\n",
      "dropout_1 (Dropout)          (None, 11, 11, 32)        0         \n",
      "_________________________________________________________________\n",
      "conv2d_3 (Conv2D)            (None, 9, 9, 64)          18496     \n",
      "_________________________________________________________________\n",
      "conv2d_4 (Conv2D)            (None, 7, 7, 64)          36928     \n",
      "_________________________________________________________________\n",
      "max_pooling2d_2 (MaxPooling2 (None, 3, 3, 64)          0         \n",
      "_________________________________________________________________\n",
      "dropout_2 (Dropout)          (None, 3, 3, 64)          0         \n",
      "_________________________________________________________________\n",
      "flatten_1 (Flatten)          (None, 576)               0         \n",
      "_________________________________________________________________\n",
      "dense_1 (Dense)              (None, 256)               147712    \n",
      "_________________________________________________________________\n",
      "dropout_3 (Dropout)          (None, 256)               0         \n",
      "_________________________________________________________________\n",
      "dense_2 (Dense)              (None, 43)                11051     \n",
      "=================================================================\n",
      "Total params: 242,251\n",
      "Trainable params: 242,251\n",
      "Non-trainable params: 0\n",
      "_________________________________________________________________\n"
     ]
    }
   ],
   "source": [
    "\n",
    "model = Sequential()\n",
    "\n",
    "model.add(Conv2D(filters=32,kernel_size=(5,5),activation=\"relu\",input_shape= X_train.shape[1:]))\n",
    "model.add(Conv2D(filters=32,kernel_size=(5,5),activation=\"relu\"))\n",
    "model.add(MaxPool2D(pool_size=(2,2)))\n",
    "model.add(Dropout(rate=0.25))\n",
    "\n",
    "model.add(Conv2D(64, (3, 3), activation='relu'))\n",
    "model.add(Conv2D(64, (3, 3), activation='relu'))\n",
    "model.add(MaxPool2D(pool_size=(2, 2)))\n",
    "model.add(Dropout(0.25))\n",
    "\n",
    "model.add(Flatten())\n",
    "model.add(Dense(256,activation=\"relu\"))\n",
    "\n",
    "model.add(Dropout(rate =0.5))\n",
    "model.add(Dense(43, activation=\"softmax\"))\n",
    "\n",
    "#Compilation of the model\n",
    "model.compile(loss='categorical_crossentropy', optimizer='adam', metrics=['accuracy'])\n",
    "\n",
    "model.summary()"
   ]
  },
  {
   "cell_type": "code",
   "execution_count": 7,
   "metadata": {},
   "outputs": [
    {
     "name": "stdout",
     "output_type": "stream",
     "text": [
      "Train on 31367 samples, validate on 7842 samples\n",
      "Epoch 1/15\n",
      "31367/31367 [==============================] - 80s 3ms/step - loss: 2.1267 - accuracy: 0.4644 - val_loss: 0.6530 - val_accuracy: 0.8377\n",
      "Epoch 2/15\n",
      "31367/31367 [==============================] - 95s 3ms/step - loss: 0.8878 - accuracy: 0.7456 - val_loss: 0.3456 - val_accuracy: 0.9174\n",
      "Epoch 3/15\n",
      "31367/31367 [==============================] - 87s 3ms/step - loss: 0.6366 - accuracy: 0.8092 - val_loss: 0.2381 - val_accuracy: 0.9396\n",
      "Epoch 4/15\n",
      "31367/31367 [==============================] - 84s 3ms/step - loss: 0.4797 - accuracy: 0.8554 - val_loss: 0.2049 - val_accuracy: 0.9508\n",
      "Epoch 5/15\n",
      "31367/31367 [==============================] - 81s 3ms/step - loss: 0.3654 - accuracy: 0.8915 - val_loss: 0.1024 - val_accuracy: 0.9722\n",
      "Epoch 6/15\n",
      "31367/31367 [==============================] - 80s 3ms/step - loss: 0.3129 - accuracy: 0.9082 - val_loss: 0.0891 - val_accuracy: 0.9763\n",
      "Epoch 7/15\n",
      "31367/31367 [==============================] - 81s 3ms/step - loss: 0.2793 - accuracy: 0.9177 - val_loss: 0.1096 - val_accuracy: 0.9732\n",
      "Epoch 8/15\n",
      "31367/31367 [==============================] - 80s 3ms/step - loss: 0.2587 - accuracy: 0.9236 - val_loss: 0.0742 - val_accuracy: 0.9790\n",
      "Epoch 9/15\n",
      "31367/31367 [==============================] - 82s 3ms/step - loss: 0.2314 - accuracy: 0.9338 - val_loss: 0.0564 - val_accuracy: 0.9846\n",
      "Epoch 10/15\n",
      "31367/31367 [==============================] - 84s 3ms/step - loss: 0.2384 - accuracy: 0.9306 - val_loss: 0.0623 - val_accuracy: 0.9810\n",
      "Epoch 11/15\n",
      "31367/31367 [==============================] - 82s 3ms/step - loss: 0.1912 - accuracy: 0.9455 - val_loss: 0.0597 - val_accuracy: 0.9842\n",
      "Epoch 12/15\n",
      "31367/31367 [==============================] - 82s 3ms/step - loss: 0.1811 - accuracy: 0.9475 - val_loss: 0.0634 - val_accuracy: 0.9855\n",
      "Epoch 13/15\n",
      "31367/31367 [==============================] - 82s 3ms/step - loss: 0.2057 - accuracy: 0.9422 - val_loss: 0.0992 - val_accuracy: 0.9727\n",
      "Epoch 14/15\n",
      "31367/31367 [==============================] - 82s 3ms/step - loss: 0.1824 - accuracy: 0.9481 - val_loss: 0.0461 - val_accuracy: 0.9892\n",
      "Epoch 15/15\n",
      "31367/31367 [==============================] - 82s 3ms/step - loss: 0.1792 - accuracy: 0.9491 - val_loss: 0.0453 - val_accuracy: 0.9892\n"
     ]
    }
   ],
   "source": [
    "epochs = 15\n",
    "history = model.fit(X_train,y_train,epochs=epochs,batch_size=64, validation_data=(X_test,y_test))"
   ]
  },
  {
   "cell_type": "code",
   "execution_count": 8,
   "metadata": {},
   "outputs": [
    {
     "data": {
      "image/png": "[encoded data removed]",
      "text/plain": [
       "<Figure size 432x288 with 1 Axes>"
      ]
     },
     "metadata": {
      "needs_background": "light"
     },
     "output_type": "display_data"
    },
    {
     "data": {
      "image/png": "[encoded data removed]",
      "text/plain": [
       "<Figure size 432x288 with 1 Axes>"
      ]
     },
     "metadata": {
      "needs_background": "light"
     },
     "output_type": "display_data"
    }
   ],
   "source": [
    "plt.figure(0)\n",
    "plt.plot(history.history['accuracy'], label='training accuracy')\n",
    "plt.plot(history.history['val_accuracy'], label='val accuracy')\n",
    "plt.title('Accuracy')\n",
    "plt.xlabel('epochs')\n",
    "plt.ylabel('accuracy')\n",
    "plt.legend()\n",
    "plt.show()\n",
    "\n",
    "plt.figure(1)\n",
    "plt.plot(history.history['loss'], label='training loss')\n",
    "plt.plot(history.history['val_loss'], label='val loss')\n",
    "plt.title('Loss')\n",
    "plt.xlabel('epochs')\n",
    "plt.ylabel('loss')\n",
    "plt.legend()\n",
    "plt.show()"
   ]
  },
  {
   "cell_type": "code",
   "execution_count": 12,
   "metadata": {},
   "outputs": [
    {
     "data": {
      "text/plain": [
       "0.9566904196357878"
      ]
     },
     "execution_count": 12,
     "metadata": {},
     "output_type": "execute_result"
    }
   ],
   "source": [
    "test_data = pd.read_csv(\"Test.csv\")\n",
    "\n",
    "labels = test_data['ClassId'].values\n",
    "imgs = test_data['Path'].values\n",
    "\n",
    "data = []\n",
    "\n",
    "for img in imgs:\n",
    "    \n",
    "    image = Image.open(img)\n",
    "    image = image.resize((30,30))\n",
    "    data.append(np.array(image))\n",
    "    \n",
    "    \n",
    "X_test = np.array(data)\n",
    "pred = model.predict_classes(X_test)\n",
    "\n",
    "accuracy_score(labels,pred)"
   ]
  }
 ],
 "metadata": {
  "kernelspec": {
   "display_name": "Python 3",
   "language": "python",
   "name": "python3"
  },
  "language_info": {
   "codemirror_mode": {
    "name": "ipython",
    "version": 3
   },
   "file_extension": ".py",
   "mimetype": "text/x-python",
   "name": "python",
   "nbconvert_exporter": "python",
   "pygments_lexer": "ipython3",
   "version": "3.6.9"
  }
 },
 "nbformat": 4,
 "nbformat_minor": 2
}
